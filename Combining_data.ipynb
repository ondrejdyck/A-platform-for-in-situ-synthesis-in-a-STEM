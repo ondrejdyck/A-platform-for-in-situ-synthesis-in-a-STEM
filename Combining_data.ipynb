{
 "cells": [
  {
   "cell_type": "code",
   "execution_count": 1,
   "id": "excess-bosnia",
   "metadata": {},
   "outputs": [],
   "source": [
    "import pandas as pd\n",
    "import matplotlib.pyplot as plt\n",
    "import seaborn as sns\n",
    "import numpy as np\n",
    "import glob"
   ]
  },
  {
   "cell_type": "code",
   "execution_count": 29,
   "id": "2b5231d5",
   "metadata": {},
   "outputs": [
    {
     "data": {
      "text/plain": [
       "['SuperScan (HAADF) 38_data2.csv',\n",
       " 'SuperScan (HAADF) 49_data2.csv',\n",
       " 'SuperScan (HAADF) 44_data2.csv',\n",
       " 'SuperScan (HAADF) 45_data2.csv',\n",
       " 'SuperScan (HAADF) 41_data2.csv',\n",
       " 'SuperScan (HAADF) 42_data2.csv',\n",
       " 'SuperScan (HAADF) 47_data2.csv',\n",
       " 'SuperScan (HAADF) 48_data2.csv']"
      ]
     },
     "execution_count": 29,
     "metadata": {},
     "output_type": "execute_result"
    }
   ],
   "source": [
    "\n",
    "pattern = 'SuperScan (HAADF) *_data2.csv'\n",
    "sheets = glob.glob(pattern)\n",
    "sheets"
   ]
  },
  {
   "attachments": {},
   "cell_type": "markdown",
   "id": "e6515b7c",
   "metadata": {},
   "source": [
    "Remove data from image 44. There is vacuum in this image which required a different threshold than the rest. Best to omit it so the processing is exactly the same for every image."
   ]
  },
  {
   "cell_type": "code",
   "execution_count": 30,
   "id": "1327622c",
   "metadata": {},
   "outputs": [
    {
     "data": {
      "text/plain": [
       "['SuperScan (HAADF) 38_data2.csv',\n",
       " 'SuperScan (HAADF) 49_data2.csv',\n",
       " 'SuperScan (HAADF) 45_data2.csv',\n",
       " 'SuperScan (HAADF) 41_data2.csv',\n",
       " 'SuperScan (HAADF) 42_data2.csv',\n",
       " 'SuperScan (HAADF) 47_data2.csv',\n",
       " 'SuperScan (HAADF) 48_data2.csv']"
      ]
     },
     "execution_count": 30,
     "metadata": {},
     "output_type": "execute_result"
    }
   ],
   "source": [
    "del sheets[2]\n",
    "sheets"
   ]
  },
  {
   "cell_type": "code",
   "execution_count": 31,
   "id": "twelve-ancient",
   "metadata": {},
   "outputs": [
    {
     "data": {
      "text/html": [
       "<div>\n",
       "<style scoped>\n",
       "    .dataframe tbody tr th:only-of-type {\n",
       "        vertical-align: middle;\n",
       "    }\n",
       "\n",
       "    .dataframe tbody tr th {\n",
       "        vertical-align: top;\n",
       "    }\n",
       "\n",
       "    .dataframe thead th {\n",
       "        text-align: right;\n",
       "    }\n",
       "</style>\n",
       "<table border=\"1\" class=\"dataframe\">\n",
       "  <thead>\n",
       "    <tr style=\"text-align: right;\">\n",
       "      <th></th>\n",
       "      <th>name</th>\n",
       "      <th>area</th>\n",
       "    </tr>\n",
       "  </thead>\n",
       "  <tbody>\n",
       "    <tr>\n",
       "      <th>0</th>\n",
       "      <td>SuperScan (HAADF) 38</td>\n",
       "      <td>1.0</td>\n",
       "    </tr>\n",
       "    <tr>\n",
       "      <th>1</th>\n",
       "      <td>SuperScan (HAADF) 38</td>\n",
       "      <td>2.5</td>\n",
       "    </tr>\n",
       "    <tr>\n",
       "      <th>2</th>\n",
       "      <td>SuperScan (HAADF) 38</td>\n",
       "      <td>3.5</td>\n",
       "    </tr>\n",
       "    <tr>\n",
       "      <th>3</th>\n",
       "      <td>SuperScan (HAADF) 38</td>\n",
       "      <td>3.0</td>\n",
       "    </tr>\n",
       "    <tr>\n",
       "      <th>4</th>\n",
       "      <td>SuperScan (HAADF) 38</td>\n",
       "      <td>8.5</td>\n",
       "    </tr>\n",
       "    <tr>\n",
       "      <th>...</th>\n",
       "      <td>...</td>\n",
       "      <td>...</td>\n",
       "    </tr>\n",
       "    <tr>\n",
       "      <th>3222</th>\n",
       "      <td>SuperScan (HAADF) 48</td>\n",
       "      <td>3.0</td>\n",
       "    </tr>\n",
       "    <tr>\n",
       "      <th>3223</th>\n",
       "      <td>SuperScan (HAADF) 48</td>\n",
       "      <td>18.0</td>\n",
       "    </tr>\n",
       "    <tr>\n",
       "      <th>3224</th>\n",
       "      <td>SuperScan (HAADF) 48</td>\n",
       "      <td>15.5</td>\n",
       "    </tr>\n",
       "    <tr>\n",
       "      <th>3225</th>\n",
       "      <td>SuperScan (HAADF) 48</td>\n",
       "      <td>12.5</td>\n",
       "    </tr>\n",
       "    <tr>\n",
       "      <th>3226</th>\n",
       "      <td>SuperScan (HAADF) 48</td>\n",
       "      <td>2.0</td>\n",
       "    </tr>\n",
       "  </tbody>\n",
       "</table>\n",
       "<p>26907 rows × 2 columns</p>\n",
       "</div>"
      ],
      "text/plain": [
       "                      name  area\n",
       "0     SuperScan (HAADF) 38   1.0\n",
       "1     SuperScan (HAADF) 38   2.5\n",
       "2     SuperScan (HAADF) 38   3.5\n",
       "3     SuperScan (HAADF) 38   3.0\n",
       "4     SuperScan (HAADF) 38   8.5\n",
       "...                    ...   ...\n",
       "3222  SuperScan (HAADF) 48   3.0\n",
       "3223  SuperScan (HAADF) 48  18.0\n",
       "3224  SuperScan (HAADF) 48  15.5\n",
       "3225  SuperScan (HAADF) 48  12.5\n",
       "3226  SuperScan (HAADF) 48   2.0\n",
       "\n",
       "[26907 rows x 2 columns]"
      ]
     },
     "execution_count": 31,
     "metadata": {},
     "output_type": "execute_result"
    }
   ],
   "source": [
    "df = pd.concat([pd.read_csv(f) for f in sheets]) \n",
    "df"
   ]
  },
  {
   "cell_type": "code",
   "execution_count": 32,
   "id": "ea5693ab",
   "metadata": {},
   "outputs": [
    {
     "data": {
      "text/html": [
       "<div>\n",
       "<style scoped>\n",
       "    .dataframe tbody tr th:only-of-type {\n",
       "        vertical-align: middle;\n",
       "    }\n",
       "\n",
       "    .dataframe tbody tr th {\n",
       "        vertical-align: top;\n",
       "    }\n",
       "\n",
       "    .dataframe thead th {\n",
       "        text-align: right;\n",
       "    }\n",
       "</style>\n",
       "<table border=\"1\" class=\"dataframe\">\n",
       "  <thead>\n",
       "    <tr style=\"text-align: right;\">\n",
       "      <th></th>\n",
       "      <th>name</th>\n",
       "      <th>area</th>\n",
       "      <th>Diameter</th>\n",
       "    </tr>\n",
       "  </thead>\n",
       "  <tbody>\n",
       "    <tr>\n",
       "      <th>0</th>\n",
       "      <td>SuperScan (HAADF) 38</td>\n",
       "      <td>1.0</td>\n",
       "      <td>1.128379</td>\n",
       "    </tr>\n",
       "    <tr>\n",
       "      <th>1</th>\n",
       "      <td>SuperScan (HAADF) 38</td>\n",
       "      <td>2.5</td>\n",
       "      <td>1.784124</td>\n",
       "    </tr>\n",
       "    <tr>\n",
       "      <th>2</th>\n",
       "      <td>SuperScan (HAADF) 38</td>\n",
       "      <td>3.5</td>\n",
       "      <td>2.111004</td>\n",
       "    </tr>\n",
       "    <tr>\n",
       "      <th>3</th>\n",
       "      <td>SuperScan (HAADF) 38</td>\n",
       "      <td>3.0</td>\n",
       "      <td>1.954410</td>\n",
       "    </tr>\n",
       "    <tr>\n",
       "      <th>4</th>\n",
       "      <td>SuperScan (HAADF) 38</td>\n",
       "      <td>8.5</td>\n",
       "      <td>3.289762</td>\n",
       "    </tr>\n",
       "    <tr>\n",
       "      <th>...</th>\n",
       "      <td>...</td>\n",
       "      <td>...</td>\n",
       "      <td>...</td>\n",
       "    </tr>\n",
       "    <tr>\n",
       "      <th>3222</th>\n",
       "      <td>SuperScan (HAADF) 48</td>\n",
       "      <td>3.0</td>\n",
       "      <td>1.954410</td>\n",
       "    </tr>\n",
       "    <tr>\n",
       "      <th>3223</th>\n",
       "      <td>SuperScan (HAADF) 48</td>\n",
       "      <td>18.0</td>\n",
       "      <td>4.787307</td>\n",
       "    </tr>\n",
       "    <tr>\n",
       "      <th>3224</th>\n",
       "      <td>SuperScan (HAADF) 48</td>\n",
       "      <td>15.5</td>\n",
       "      <td>4.442433</td>\n",
       "    </tr>\n",
       "    <tr>\n",
       "      <th>3225</th>\n",
       "      <td>SuperScan (HAADF) 48</td>\n",
       "      <td>12.5</td>\n",
       "      <td>3.989423</td>\n",
       "    </tr>\n",
       "    <tr>\n",
       "      <th>3226</th>\n",
       "      <td>SuperScan (HAADF) 48</td>\n",
       "      <td>2.0</td>\n",
       "      <td>1.595769</td>\n",
       "    </tr>\n",
       "  </tbody>\n",
       "</table>\n",
       "<p>26907 rows × 3 columns</p>\n",
       "</div>"
      ],
      "text/plain": [
       "                      name  area  Diameter\n",
       "0     SuperScan (HAADF) 38   1.0  1.128379\n",
       "1     SuperScan (HAADF) 38   2.5  1.784124\n",
       "2     SuperScan (HAADF) 38   3.5  2.111004\n",
       "3     SuperScan (HAADF) 38   3.0  1.954410\n",
       "4     SuperScan (HAADF) 38   8.5  3.289762\n",
       "...                    ...   ...       ...\n",
       "3222  SuperScan (HAADF) 48   3.0  1.954410\n",
       "3223  SuperScan (HAADF) 48  18.0  4.787307\n",
       "3224  SuperScan (HAADF) 48  15.5  4.442433\n",
       "3225  SuperScan (HAADF) 48  12.5  3.989423\n",
       "3226  SuperScan (HAADF) 48   2.0  1.595769\n",
       "\n",
       "[26907 rows x 3 columns]"
      ]
     },
     "execution_count": 32,
     "metadata": {},
     "output_type": "execute_result"
    }
   ],
   "source": [
    "df['Diameter'] =  2 * np.sqrt(df['area'] / np.pi)\n",
    "df"
   ]
  },
  {
   "cell_type": "code",
   "execution_count": 33,
   "id": "acknowledged-stationery",
   "metadata": {},
   "outputs": [
    {
     "data": {
      "image/png": "[encoded data removed]",
      "text/plain": [
       "<Figure size 432x288 with 1 Axes>"
      ]
     },
     "metadata": {},
     "output_type": "display_data"
    }
   ],
   "source": [
    "#sns.set_style('darkgrid')\n",
    "sns.histplot(df['area'], kde=False, binwidth=1)\n",
    "plt.title('Particle Size Distribution', fontsize=25)\n",
    "plt.xlabel('Area [nm$^2$]', fontsize=20)\n",
    "plt.ylabel('Count', fontsize=20)\n",
    "plt.xlim(-2,60)\n",
    "plt.tick_params(labelsize=15)\n",
    "savename = 'combined_data.svg'\n",
    "plt.savefig(savename, bbox_inches='tight')\n",
    "plt.show()"
   ]
  },
  {
   "cell_type": "code",
   "execution_count": 24,
   "id": "37e5e5a1",
   "metadata": {},
   "outputs": [
    {
     "data": {
      "image/png": "[encoded data removed]",
      "text/plain": [
       "<Figure size 432x288 with 1 Axes>"
      ]
     },
     "metadata": {},
     "output_type": "display_data"
    }
   ],
   "source": [
    "#sns.set_style('darkgrid')\n",
    "sns.histplot(df['area'], kde=False, binwidth=1)\n",
    "plt.title('Particle Size Distribution')\n",
    "plt.xlabel('Diameter [nm]')\n",
    "#plt.ylabel('Count')\n",
    "plt.xlim(-2,70)\n",
    "plt.show()"
   ]
  },
  {
   "cell_type": "code",
   "execution_count": 34,
   "id": "balanced-customer",
   "metadata": {},
   "outputs": [],
   "source": [
    "dens = df['name'].value_counts()/(1.024*1.024)"
   ]
  },
  {
   "cell_type": "code",
   "execution_count": 35,
   "id": "italic-alignment",
   "metadata": {},
   "outputs": [
    {
     "data": {
      "text/plain": [
       "SuperScan (HAADF) 38    5222.320557\n",
       "SuperScan (HAADF) 42    4600.524902\n",
       "SuperScan (HAADF) 45    4354.476929\n",
       "SuperScan (HAADF) 49    3426.551819\n",
       "SuperScan (HAADF) 48    3077.507019\n",
       "SuperScan (HAADF) 47    2966.880798\n",
       "SuperScan (HAADF) 41    8049.011230\n",
       "Name: name, dtype: float64"
      ]
     },
     "execution_count": 35,
     "metadata": {},
     "output_type": "execute_result"
    }
   ],
   "source": [
    "dens[-1] = dens[-1]*((1.024*1.024)/(0.512*0.512))\n",
    "dens"
   ]
  },
  {
   "cell_type": "code",
   "execution_count": 39,
   "id": "transparent-excerpt",
   "metadata": {},
   "outputs": [
    {
     "data": {
      "image/png": "[encoded data removed]",
      "text/plain": [
       "<Figure size 144x432 with 1 Axes>"
      ]
     },
     "metadata": {},
     "output_type": "display_data"
    }
   ],
   "source": [
    "sns.set_style('ticks')\n",
    "fig = plt.figure(figsize=(2, 6))\n",
    "sns.violinplot(data=dens)\n",
    "sns.swarmplot(data = dens, color='black')\n",
    "plt.ylabel('Particle Density [particles/$\\mu m^2$]', fontsize=20)\n",
    "sns.despine(bottom=True) \n",
    "plt.tick_params(axis='x', which='both', bottom=False, labelbottom=False)\n",
    "plt.tick_params(axis='y', labelsize=15)\n",
    "plt.savefig('Density_distribution.svg', bbox_inches='tight')\n",
    "plt.show()"
   ]
  },
  {
   "cell_type": "code",
   "execution_count": 56,
   "id": "expired-sessions",
   "metadata": {},
   "outputs": [
    {
     "data": {
      "text/html": [
       "<div>\n",
       "<style scoped>\n",
       "    .dataframe tbody tr th:only-of-type {\n",
       "        vertical-align: middle;\n",
       "    }\n",
       "\n",
       "    .dataframe tbody tr th {\n",
       "        vertical-align: top;\n",
       "    }\n",
       "\n",
       "    .dataframe thead th {\n",
       "        text-align: right;\n",
       "    }\n",
       "</style>\n",
       "<table border=\"1\" class=\"dataframe\">\n",
       "  <thead>\n",
       "    <tr style=\"text-align: right;\">\n",
       "      <th></th>\n",
       "      <th>area</th>\n",
       "    </tr>\n",
       "  </thead>\n",
       "  <tbody>\n",
       "    <tr>\n",
       "      <th>count</th>\n",
       "      <td>30805.000000</td>\n",
       "    </tr>\n",
       "    <tr>\n",
       "      <th>mean</th>\n",
       "      <td>20.010481</td>\n",
       "    </tr>\n",
       "    <tr>\n",
       "      <th>std</th>\n",
       "      <td>13.873358</td>\n",
       "    </tr>\n",
       "    <tr>\n",
       "      <th>min</th>\n",
       "      <td>0.125000</td>\n",
       "    </tr>\n",
       "    <tr>\n",
       "      <th>25%</th>\n",
       "      <td>8.500000</td>\n",
       "    </tr>\n",
       "    <tr>\n",
       "      <th>50%</th>\n",
       "      <td>20.500000</td>\n",
       "    </tr>\n",
       "    <tr>\n",
       "      <th>75%</th>\n",
       "      <td>28.500000</td>\n",
       "    </tr>\n",
       "    <tr>\n",
       "      <th>max</th>\n",
       "      <td>257.500000</td>\n",
       "    </tr>\n",
       "  </tbody>\n",
       "</table>\n",
       "</div>"
      ],
      "text/plain": [
       "               area\n",
       "count  30805.000000\n",
       "mean      20.010481\n",
       "std       13.873358\n",
       "min        0.125000\n",
       "25%        8.500000\n",
       "50%       20.500000\n",
       "75%       28.500000\n",
       "max      257.500000"
      ]
     },
     "execution_count": 56,
     "metadata": {},
     "output_type": "execute_result"
    }
   ],
   "source": [
    "df.describe()"
   ]
  },
  {
   "cell_type": "code",
   "execution_count": null,
   "id": "proved-dimension",
   "metadata": {},
   "outputs": [],
   "source": []
  }
 ],
 "metadata": {
  "kernelspec": {
   "display_name": "ai",
   "language": "python",
   "name": "python3"
  },
  "language_info": {
   "codemirror_mode": {
    "name": "ipython",
    "version": 3
   },
   "file_extension": ".py",
   "mimetype": "text/x-python",
   "name": "python",
   "nbconvert_exporter": "python",
   "pygments_lexer": "ipython3",
   "version": "3.9.12"
  },
  "vscode": {
   "interpreter": {
    "hash": "c6ade65ff5b2a691029a0fac50e021c1585ef6dba75258d334a810fa68a2f26b"
   }
  }
 },
 "nbformat": 4,
 "nbformat_minor": 5
}

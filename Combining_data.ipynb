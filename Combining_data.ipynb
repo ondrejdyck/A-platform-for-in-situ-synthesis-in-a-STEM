{
 "cells": [
  {
   "attachments": {},
   "cell_type": "markdown",
   "id": "93399677",
   "metadata": {},
   "source": [
    "# Plot the collected data\n",
    "\n",
    "This notebook gathers together the output of the `Particle_analysis.ipynb` notebook and plots the combined data.\n",
    "\n",
    "Written by Ondrej Dyck\n",
    "\n",
    "January 20, 2023"
   ]
  },
  {
   "cell_type": "code",
   "execution_count": 1,
   "id": "excess-bosnia",
   "metadata": {},
   "outputs": [],
   "source": [
    "# import packages\n",
    "\n",
    "import pandas as pd\n",
    "import matplotlib.pyplot as plt\n",
    "import seaborn as sns\n",
    "import numpy as np\n",
    "import glob\n",
    "import os"
   ]
  },
  {
   "attachments": {},
   "cell_type": "markdown",
   "id": "a8ecdece",
   "metadata": {},
   "source": [
    "Get the names of the `.csv` files that have our data"
   ]
  },
  {
   "cell_type": "code",
   "execution_count": 6,
   "id": "2b5231d5",
   "metadata": {},
   "outputs": [
    {
     "data": {
      "text/plain": [
       "['Output/SuperScan (HAADF) 48.csv',\n",
       " 'Output/SuperScan (HAADF) 45.csv',\n",
       " 'Output/SuperScan (HAADF) 49.csv',\n",
       " 'Output/SuperScan (HAADF) 38.csv',\n",
       " 'Output/SuperScan (HAADF) 41.csv',\n",
       " 'Output/SuperScan (HAADF) 42.csv',\n",
       " 'Output/SuperScan (HAADF) 47.csv',\n",
       " 'Output/SuperScan (HAADF) 44.csv']"
      ]
     },
     "execution_count": 6,
     "metadata": {},
     "output_type": "execute_result"
    }
   ],
   "source": [
    "out_folder = 'Output'\n",
    "pattern = 'SuperScan (HAADF) *.csv'\n",
    "name_template = os.path.join(out_folder, pattern)\n",
    "all_sheets = glob.glob(name_template)\n",
    "all_sheets"
   ]
  },
  {
   "attachments": {},
   "cell_type": "markdown",
   "id": "e6515b7c",
   "metadata": {},
   "source": [
    "Remove image 44. There is vacuum in this image which required a different threshold than the rest. Best to omit it so the processing is exactly the same for every image."
   ]
  },
  {
   "cell_type": "code",
   "execution_count": 7,
   "id": "5e80c12a",
   "metadata": {},
   "outputs": [],
   "source": [
    "sheets = [sheet for sheet in all_sheets if '44' not in sheet]"
   ]
  },
  {
   "attachments": {},
   "cell_type": "markdown",
   "id": "ce49b308",
   "metadata": {},
   "source": [
    "Read in the data and put it in a Pandas DataFrame"
   ]
  },
  {
   "cell_type": "code",
   "execution_count": 8,
   "id": "twelve-ancient",
   "metadata": {},
   "outputs": [
    {
     "data": {
      "text/html": [
       "<div>\n",
       "<style scoped>\n",
       "    .dataframe tbody tr th:only-of-type {\n",
       "        vertical-align: middle;\n",
       "    }\n",
       "\n",
       "    .dataframe tbody tr th {\n",
       "        vertical-align: top;\n",
       "    }\n",
       "\n",
       "    .dataframe thead th {\n",
       "        text-align: right;\n",
       "    }\n",
       "</style>\n",
       "<table border=\"1\" class=\"dataframe\">\n",
       "  <thead>\n",
       "    <tr style=\"text-align: right;\">\n",
       "      <th></th>\n",
       "      <th>name</th>\n",
       "      <th>area</th>\n",
       "    </tr>\n",
       "  </thead>\n",
       "  <tbody>\n",
       "    <tr>\n",
       "      <th>0</th>\n",
       "      <td>SuperScan (HAADF) 48</td>\n",
       "      <td>3.5</td>\n",
       "    </tr>\n",
       "    <tr>\n",
       "      <th>1</th>\n",
       "      <td>SuperScan (HAADF) 48</td>\n",
       "      <td>2.0</td>\n",
       "    </tr>\n",
       "    <tr>\n",
       "      <th>2</th>\n",
       "      <td>SuperScan (HAADF) 48</td>\n",
       "      <td>5.0</td>\n",
       "    </tr>\n",
       "    <tr>\n",
       "      <th>3</th>\n",
       "      <td>SuperScan (HAADF) 48</td>\n",
       "      <td>1.0</td>\n",
       "    </tr>\n",
       "    <tr>\n",
       "      <th>4</th>\n",
       "      <td>SuperScan (HAADF) 48</td>\n",
       "      <td>12.0</td>\n",
       "    </tr>\n",
       "    <tr>\n",
       "      <th>...</th>\n",
       "      <td>...</td>\n",
       "      <td>...</td>\n",
       "    </tr>\n",
       "    <tr>\n",
       "      <th>3106</th>\n",
       "      <td>SuperScan (HAADF) 47</td>\n",
       "      <td>2.5</td>\n",
       "    </tr>\n",
       "    <tr>\n",
       "      <th>3107</th>\n",
       "      <td>SuperScan (HAADF) 47</td>\n",
       "      <td>7.0</td>\n",
       "    </tr>\n",
       "    <tr>\n",
       "      <th>3108</th>\n",
       "      <td>SuperScan (HAADF) 47</td>\n",
       "      <td>16.5</td>\n",
       "    </tr>\n",
       "    <tr>\n",
       "      <th>3109</th>\n",
       "      <td>SuperScan (HAADF) 47</td>\n",
       "      <td>4.5</td>\n",
       "    </tr>\n",
       "    <tr>\n",
       "      <th>3110</th>\n",
       "      <td>SuperScan (HAADF) 47</td>\n",
       "      <td>18.5</td>\n",
       "    </tr>\n",
       "  </tbody>\n",
       "</table>\n",
       "<p>26907 rows × 2 columns</p>\n",
       "</div>"
      ],
      "text/plain": [
       "                      name  area\n",
       "0     SuperScan (HAADF) 48   3.5\n",
       "1     SuperScan (HAADF) 48   2.0\n",
       "2     SuperScan (HAADF) 48   5.0\n",
       "3     SuperScan (HAADF) 48   1.0\n",
       "4     SuperScan (HAADF) 48  12.0\n",
       "...                    ...   ...\n",
       "3106  SuperScan (HAADF) 47   2.5\n",
       "3107  SuperScan (HAADF) 47   7.0\n",
       "3108  SuperScan (HAADF) 47  16.5\n",
       "3109  SuperScan (HAADF) 47   4.5\n",
       "3110  SuperScan (HAADF) 47  18.5\n",
       "\n",
       "[26907 rows x 2 columns]"
      ]
     },
     "execution_count": 8,
     "metadata": {},
     "output_type": "execute_result"
    }
   ],
   "source": [
    "df = pd.concat([pd.read_csv(f) for f in sheets]) \n",
    "df"
   ]
  },
  {
   "attachments": {},
   "cell_type": "markdown",
   "id": "47cfc40b",
   "metadata": {},
   "source": [
    "Plot the histogram and save a copy to the `Output` folder"
   ]
  },
  {
   "cell_type": "code",
   "execution_count": 9,
   "id": "acknowledged-stationery",
   "metadata": {},
   "outputs": [
    {
     "data": {
      "image/png": "[encoded data removed]",
      "text/plain": [
       "<Figure size 432x288 with 1 Axes>"
      ]
     },
     "metadata": {
      "needs_background": "light"
     },
     "output_type": "display_data"
    }
   ],
   "source": [
    "sns.histplot(df['area'], kde=False, binwidth=1)\n",
    "plt.title('Particle Size Distribution', fontsize=25)\n",
    "plt.xlabel('Area [nm$^2$]', fontsize=20)\n",
    "plt.ylabel('Count', fontsize=20)\n",
    "plt.xlim(-2,60)\n",
    "plt.tick_params(labelsize=15)\n",
    "savename = 'combined_data.svg'\n",
    "out_name = os.path.join(out_folder, savename)\n",
    "plt.savefig(out_name, bbox_inches='tight')\n",
    "plt.show()"
   ]
  },
  {
   "cell_type": "code",
   "execution_count": null,
   "id": "proved-dimension",
   "metadata": {},
   "outputs": [],
   "source": []
  }
 ],
 "metadata": {
  "kernelspec": {
   "display_name": "ai",
   "language": "python",
   "name": "python3"
  },
  "language_info": {
   "codemirror_mode": {
    "name": "ipython",
    "version": 3
   },
   "file_extension": ".py",
   "mimetype": "text/x-python",
   "name": "python",
   "nbconvert_exporter": "python",
   "pygments_lexer": "ipython3",
   "version": "3.9.12"
  },
  "vscode": {
   "interpreter": {
    "hash": "c6ade65ff5b2a691029a0fac50e021c1585ef6dba75258d334a810fa68a2f26b"
   }
  }
 },
 "nbformat": 4,
 "nbformat_minor": 5
}
